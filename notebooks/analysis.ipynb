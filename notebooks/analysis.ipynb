{
 "cells": [
  {
   "cell_type": "code",
   "execution_count": 1,
   "id": "79339281",
   "metadata": {},
   "outputs": [
    {
     "name": "stderr",
     "output_type": "stream",
     "text": [
      "Matplotlib is building the font cache; this may take a moment.\n"
     ]
    }
   ],
   "source": [
    "import numpy as np\n",
    "import pandas as pd\n",
    "import matplotlib.pyplot as plt\n",
    "import os\n",
    "import warnings\n",
    "warnings.filterwarnings('ignore')"
   ]
  },
  {
   "cell_type": "markdown",
   "id": "9e21cd4a",
   "metadata": {},
   "source": [
    "# data preprocess"
   ]
  },
  {
   "cell_type": "code",
   "execution_count": 2,
   "id": "b58f8ef3",
   "metadata": {},
   "outputs": [],
   "source": [
    "os.chdir(\"..\")"
   ]
  },
  {
   "cell_type": "code",
   "execution_count": 3,
   "id": "8e97edd5",
   "metadata": {},
   "outputs": [
    {
     "data": {
      "text/plain": [
       "['.git',\n",
       " '.gitignore',\n",
       " 'data',\n",
       " 'notebooks',\n",
       " 'README.md',\n",
       " 'requirements.txt',\n",
       " 'summary_report.pdf',\n",
       " 'venv',\n",
       " 'visuals']"
      ]
     },
     "execution_count": 3,
     "metadata": {},
     "output_type": "execute_result"
    }
   ],
   "source": [
    "os.listdir()"
   ]
  },
  {
   "cell_type": "code",
   "execution_count": 4,
   "id": "67c92387",
   "metadata": {},
   "outputs": [
    {
     "name": "stdout",
     "output_type": "stream",
     "text": [
      "(541909, 8)\n",
      "Index(['InvoiceNo', 'StockCode', 'Description', 'Quantity', 'InvoiceDate',\n",
      "       'UnitPrice', 'CustomerID', 'Country'],\n",
      "      dtype='object')\n",
      "<class 'pandas.core.frame.DataFrame'>\n",
      "RangeIndex: 541909 entries, 0 to 541908\n",
      "Data columns (total 8 columns):\n",
      " #   Column       Non-Null Count   Dtype  \n",
      "---  ------       --------------   -----  \n",
      " 0   InvoiceNo    541909 non-null  object \n",
      " 1   StockCode    541909 non-null  object \n",
      " 2   Description  540455 non-null  object \n",
      " 3   Quantity     541909 non-null  int64  \n",
      " 4   InvoiceDate  541909 non-null  object \n",
      " 5   UnitPrice    541909 non-null  float64\n",
      " 6   CustomerID   406829 non-null  float64\n",
      " 7   Country      541909 non-null  object \n",
      "dtypes: float64(2), int64(1), object(5)\n",
      "memory usage: 33.1+ MB\n"
     ]
    }
   ],
   "source": [
    "data = pd.read_csv('data/data.csv', encoding='latin1')  # ตอนนี้ไฟล์อยู่ตรงนี้\n",
    "print(data.shape)        # ดูขนาดข้อมูล (rows, columns)\n",
    "print(data.columns)      # ดูชื่อคอลัมน์\n",
    "data.head()              # ดูตัวอย่างข้อมูล 5 แถวแรก\n",
    "data.info()              # ดู type และ null ของแต่ละคอลัมน์\n"
   ]
  },
  {
   "cell_type": "code",
   "execution_count": 5,
   "id": "9b7c83fa",
   "metadata": {},
   "outputs": [
    {
     "name": "stdout",
     "output_type": "stream",
     "text": [
      "InvoiceNo           0\n",
      "StockCode           0\n",
      "Description      1454\n",
      "Quantity            0\n",
      "InvoiceDate         0\n",
      "UnitPrice           0\n",
      "CustomerID     135080\n",
      "Country             0\n",
      "dtype: int64\n"
     ]
    }
   ],
   "source": [
    "# ดูจำนวน missing values\n",
    "print(data.isnull().sum())\n",
    "\n",
    "# ลบแถวที่ CustomerID ว่าง (ทำ customer analysis)\n",
    "df = data.dropna(subset=['CustomerID'])\n",
    "\n",
    "# แปลง CustomerID เป็น string \n",
    "df['CustomerID'] = df['CustomerID'].astype(str)\n",
    "data['CustomerID'] = df['CustomerID'].astype(str)\n"
   ]
  },
  {
   "cell_type": "code",
   "execution_count": 6,
   "id": "d1143be6",
   "metadata": {},
   "outputs": [],
   "source": [
    "df['Description'] = df['Description'].fillna('Unknown')\n",
    "data['Description'] = data['Description'].fillna('Unknown')"
   ]
  },
  {
   "cell_type": "code",
   "execution_count": 7,
   "id": "9a1f8d01",
   "metadata": {},
   "outputs": [],
   "source": [
    "data['InvoiceDate'] = pd.to_datetime(data['InvoiceDate'])\n",
    "df['InvoiceDate'] = pd.to_datetime(df['InvoiceDate'])\n"
   ]
  },
  {
   "cell_type": "code",
   "execution_count": 8,
   "id": "f0b1cf43",
   "metadata": {},
   "outputs": [],
   "source": [
    "# ลบแถวที่ Quantity หรือราคา UnitPrice น้อยกว่าหรือเท่ากับ 0\n",
    "df = df[(df['Quantity'] > 0) & (df['UnitPrice'] > 0)]\n",
    "data = data[(data['Quantity'] > 0) & (data['UnitPrice'] > 0)]\n",
    "\n",
    "# ผลรวมข้อมูล\n",
    "data['TotalPrice'] = data['Quantity'] * data['UnitPrice']\n",
    "df['TotalPrice'] = df['Quantity'] * df['UnitPrice']\n"
   ]
  },
  {
   "cell_type": "code",
   "execution_count": 9,
   "id": "7324c35a",
   "metadata": {},
   "outputs": [],
   "source": [
    "#ตรวจสอบข้อมูลซ้ำซ้อน\n",
    "df.duplicated().sum()  # จำนวนข้อมูลซ้ำ\n",
    "data.duplicated().sum()\n",
    "\n",
    "df = df.drop_duplicates()\n",
    "data = data.drop_duplicates()\n"
   ]
  },
  {
   "cell_type": "markdown",
   "id": "ddb229f4",
   "metadata": {},
   "source": [
    "# Customer Segments (RFM)"
   ]
  },
  {
   "cell_type": "code",
   "execution_count": 10,
   "id": "2779315c",
   "metadata": {},
   "outputs": [
    {
     "name": "stdout",
     "output_type": "stream",
     "text": [
      "(392692, 9)\n",
      "(524878, 9)\n"
     ]
    }
   ],
   "source": [
    "print(df.shape)#customer analysis\n",
    "print(data.shape)#transaction-level"
   ]
  },
  {
   "cell_type": "markdown",
   "id": "4dbbfe10",
   "metadata": {},
   "source": [
    "กำหนดวันอ้างอิงวิเคราะห์"
   ]
  },
  {
   "cell_type": "code",
   "execution_count": 11,
   "id": "d9737557",
   "metadata": {},
   "outputs": [],
   "source": [
    "latest_date = df['InvoiceDate'].max() + pd.Timedelta(days=1)"
   ]
  },
  {
   "cell_type": "markdown",
   "id": "70d29314",
   "metadata": {},
   "source": [
    "สร้างตาราง RFM"
   ]
  },
  {
   "cell_type": "code",
   "execution_count": 12,
   "id": "346b9b24",
   "metadata": {},
   "outputs": [],
   "source": [
    "rfm = df.groupby('CustomerID').agg({\n",
    "    'InvoiceDate': lambda x: (latest_date - x.max()).days,     # Recency\n",
    "    'InvoiceNo': 'nunique',                                     # Frequency\n",
    "    'TotalPrice': 'sum'                                         # Monetary\n",
    "}).reset_index()\n",
    "\n",
    "rfm.columns = ['CustomerID', 'Recency', 'Frequency', 'Monetary']\n"
   ]
  },
  {
   "cell_type": "markdown",
   "id": "ef85fb37",
   "metadata": {},
   "source": [
    "สร้าง RFM Score"
   ]
  },
  {
   "cell_type": "code",
   "execution_count": 13,
   "id": "25eef722",
   "metadata": {},
   "outputs": [],
   "source": [
    "rfm['R'] = pd.qcut(rfm['Recency'], 5, labels=[5, 4, 3, 2, 1])\n",
    "rfm['F'] = pd.qcut(rfm['Frequency'].rank(method='first'), 5, labels=[1, 2, 3, 4, 5])\n",
    "rfm['M'] = pd.qcut(rfm['Monetary'], 5, labels=[1, 2, 3, 4, 5])\n",
    "\n",
    "rfm['RFM_Score'] = rfm['R'].astype(str) + rfm['F'].astype(str) + rfm['M'].astype(str)"
   ]
  },
  {
   "cell_type": "markdown",
   "id": "24581757",
   "metadata": {},
   "source": [
    "แบ่งกลุ่มลูกค้าจากคะแนน"
   ]
  },
  {
   "cell_type": "code",
   "execution_count": 14,
   "id": "8df6842a",
   "metadata": {},
   "outputs": [],
   "source": [
    "def segment_customer(score):\n",
    "    if score >= '444':\n",
    "        return 'Top Customers'\n",
    "    elif score >= '344':\n",
    "        return 'Loyal Customers'\n",
    "    elif score >= '244':\n",
    "        return 'Potential Loyalist'\n",
    "    elif score >= '144':\n",
    "        return 'Needs Attention'\n",
    "    else:\n",
    "        return 'At Risk'\n",
    "\n",
    "rfm['Segment'] = rfm['RFM_Score'].apply(segment_customer)\n"
   ]
  },
  {
   "cell_type": "markdown",
   "id": "5118bba3",
   "metadata": {},
   "source": [
    "ดูผลลัพธ์"
   ]
  },
  {
   "cell_type": "code",
   "execution_count": 15,
   "id": "832bdf14",
   "metadata": {},
   "outputs": [
    {
     "name": "stdout",
     "output_type": "stream",
     "text": [
      "  CustomerID RFM_Score             Segment\n",
      "0    12346.0       115             At Risk\n",
      "1    12347.0       555       Top Customers\n",
      "2    12348.0       244  Potential Loyalist\n",
      "3    12349.0       414     Loyal Customers\n",
      "4    12350.0       112             At Risk\n",
      "Segment\n",
      "Top Customers         1278\n",
      "At Risk                836\n",
      "Potential Loyalist     767\n",
      "Loyal Customers        734\n",
      "Needs Attention        723\n",
      "Name: count, dtype: int64\n",
      "Segment\n",
      "At Risk                502449.091\n",
      "Loyal Customers       1023619.261\n",
      "Needs Attention        492110.992\n",
      "Potential Loyalist     698037.980\n",
      "Top Customers         6170991.570\n",
      "Name: TotalPrice, dtype: float64\n"
     ]
    }
   ],
   "source": [
    "print(rfm[['CustomerID', 'RFM_Score', 'Segment']].head())\n",
    "\n",
    "# ดูจำนวนลูกค้าแต่ละกลุ่ม\n",
    "print(rfm['Segment'].value_counts())\n",
    "\n",
    "# สรุปยอดขายต่อกลุ่ม\n",
    "print(df.merge(rfm, on='CustomerID').groupby('Segment')['TotalPrice'].sum())\n"
   ]
  },
  {
   "cell_type": "code",
   "execution_count": 16,
   "id": "8b920a0f",
   "metadata": {},
   "outputs": [
    {
     "data": {
      "image/png": "[encoded data removed]",
      "text/plain": [
       "<Figure size 640x480 with 1 Axes>"
      ]
     },
     "metadata": {},
     "output_type": "display_data"
    }
   ],
   "source": [
    "rfm['Segment'].value_counts().plot(kind='bar', color='skyblue')\n",
    "plt.title('Customer Segments by RFM Score')\n",
    "plt.xlabel('Segment')\n",
    "plt.ylabel('Number of Customers')\n",
    "plt.xticks(rotation=45)\n",
    "plt.tight_layout()\n",
    "plt.show()\n"
   ]
  },
  {
   "cell_type": "markdown",
   "id": "e5b202a9",
   "metadata": {},
   "source": [
    "# Clustering"
   ]
  },
  {
   "cell_type": "code",
   "execution_count": 18,
   "id": "c5acd5ec",
   "metadata": {},
   "outputs": [
    {
     "ename": "ModuleNotFoundError",
     "evalue": "No module named 'sklearn'",
     "output_type": "error",
     "traceback": [
      "\u001b[31m---------------------------------------------------------------------------\u001b[39m",
      "\u001b[31mModuleNotFoundError\u001b[39m                       Traceback (most recent call last)",
      "\u001b[36mCell\u001b[39m\u001b[36m \u001b[39m\u001b[32mIn[18]\u001b[39m\u001b[32m, line 1\u001b[39m\n\u001b[32m----> \u001b[39m\u001b[32m1\u001b[39m \u001b[38;5;28;01mfrom\u001b[39;00m\u001b[38;5;250m \u001b[39m\u001b[34;01msklearn\u001b[39;00m\u001b[34;01m.\u001b[39;00m\u001b[34;01mpreprocessing\u001b[39;00m\u001b[38;5;250m \u001b[39m\u001b[38;5;28;01mimport\u001b[39;00m StandardScaler\n\u001b[32m      2\u001b[39m \u001b[38;5;28;01mfrom\u001b[39;00m\u001b[38;5;250m \u001b[39m\u001b[34;01msklearn\u001b[39;00m\u001b[34;01m.\u001b[39;00m\u001b[34;01mcluster\u001b[39;00m\u001b[38;5;250m \u001b[39m\u001b[38;5;28;01mimport\u001b[39;00m KMeans\n\u001b[32m      3\u001b[39m \u001b[38;5;28;01mimport\u001b[39;00m\u001b[38;5;250m \u001b[39m\u001b[34;01mseaborn\u001b[39;00m\u001b[38;5;250m \u001b[39m\u001b[38;5;28;01mas\u001b[39;00m\u001b[38;5;250m \u001b[39m\u001b[34;01msns\u001b[39;00m\n",
      "\u001b[31mModuleNotFoundError\u001b[39m: No module named 'sklearn'"
     ]
    }
   ],
   "source": [
    "\n",
    "from sklearn.preprocessing import StandardScaler\n",
    "from sklearn.cluster import KMeans\n",
    "import seaborn as sns\n",
    "\n",
    "# สมมติว่าคุณมี df RFM แล้ว\n",
    "rfm = df.groupby('CustomerID').agg({\n",
    "    'InvoiceDate': lambda x: (df['InvoiceDate'].max() - x.max()).days,\n",
    "    'InvoiceNo': 'nunique',\n",
    "    'TotalPrice': 'sum'\n",
    "}).reset_index()\n",
    "\n",
    "rfm.columns = ['CustomerID', 'Recency', 'Frequency', 'Monetary']\n"
   ]
  },
  {
   "cell_type": "code",
   "execution_count": null,
   "id": "4a2cbca6",
   "metadata": {},
   "outputs": [],
   "source": [
    "#Scaling\n",
    "scaler = StandardScaler()\n",
    "rfm_scaled = scaler.fit_transform(rfm[['Recency', 'Frequency', 'Monetary']])"
   ]
  },
  {
   "cell_type": "code",
   "execution_count": null,
   "id": "0f7952fd",
   "metadata": {},
   "outputs": [],
   "source": [
    "#หา K ที่ดีที่สุดด้วย Elbow Method\n",
    "inertia = []\n",
    "k_range = range(1, 11)\n",
    "\n",
    "for k in k_range:\n",
    "    km = KMeans(n_clusters=k, random_state=1)\n",
    "    km.fit(rfm_scaled)\n",
    "    inertia.append(km.inertia_)\n",
    "\n",
    "plt.plot(k_range, inertia, 'bo-')\n",
    "plt.xlabel('Number of clusters (k)')\n",
    "plt.ylabel('Inertia')\n",
    "plt.title('Elbow Method to choose optimal k')\n",
    "plt.show()\n"
   ]
  },
  {
   "cell_type": "code",
   "execution_count": null,
   "id": "208ba57c",
   "metadata": {},
   "outputs": [],
   "source": [
    "#KMeans Clustering\n",
    "k = 4  # ปรับตามที่ได้จาก elbow\n",
    "kmeans = KMeans(n_clusters=k, random_state=1)\n",
    "rfm['Cluster'] = kmeans.fit_predict(rfm_scaled)"
   ]
  },
  {
   "cell_type": "code",
   "execution_count": null,
   "id": "10e0d3cf",
   "metadata": {},
   "outputs": [],
   "source": [
    "rfm.groupby('Cluster').agg({\n",
    "    'Recency': 'mean',\n",
    "    'Frequency': 'mean',\n",
    "    'Monetary': ['mean', 'count']\n",
    "}).round(2)"
   ]
  },
  {
   "cell_type": "code",
   "execution_count": null,
   "id": "a7367bbd",
   "metadata": {},
   "outputs": [],
   "source": [
    "sns.scatterplot(data=rfm, x='Recency', y='Monetary', hue='Cluster', palette='Set2')\n",
    "plt.title('Customer Segments by Recency and Monetary')\n",
    "plt.show()"
   ]
  },
  {
   "cell_type": "markdown",
   "id": "2f393938",
   "metadata": {},
   "source": [
    "จะได้กลุ่มลูกค้า 4 กลุ่ม (Cluster 0, 1, 2, 3) ซึ่งสามารถตีความได้ว่า:\n",
    "\n",
    "Cluster 0: ลูกค้าใหม่ / ลูกค้าขาจร\n",
    "\n",
    "Cluster 1: ลูกค้าที่มีการซื้อซ้ำ\n",
    "\n",
    "Cluster 2: ลูกค้าที่ใช้จ่ายสูง\n",
    "\n",
    "Cluster 3: ลูกค้าหายไป (ไม่ได้กลับมานาน)"
   ]
  }
 ],
 "metadata": {
  "kernelspec": {
   "display_name": "venv",
   "language": "python",
   "name": "python3"
  },
  "language_info": {
   "codemirror_mode": {
    "name": "ipython",
    "version": 3
   },
   "file_extension": ".py",
   "mimetype": "text/x-python",
   "name": "python",
   "nbconvert_exporter": "python",
   "pygments_lexer": "ipython3",
   "version": "3.12.10"
  }
 },
 "nbformat": 4,
 "nbformat_minor": 5
}
