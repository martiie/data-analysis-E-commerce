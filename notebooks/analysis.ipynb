{
 "cells": [
  {
   "cell_type": "code",
   "execution_count": 57,
   "id": "79339281",
   "metadata": {},
   "outputs": [],
   "source": [
    "import numpy as np\n",
    "import pandas as pd\n",
    "import matplotlib as plt\n",
    "import os\n",
    "import warnings\n",
    "warnings.filterwarnings('ignore')"
   ]
  },
  {
   "cell_type": "markdown",
   "id": "9e21cd4a",
   "metadata": {},
   "source": [
    "# data preprocess"
   ]
  },
  {
   "cell_type": "code",
   "execution_count": 41,
   "id": "b58f8ef3",
   "metadata": {},
   "outputs": [],
   "source": [
    "os.chdir(\"..\")"
   ]
  },
  {
   "cell_type": "code",
   "execution_count": 42,
   "id": "8e97edd5",
   "metadata": {},
   "outputs": [
    {
     "data": {
      "text/plain": [
       "['data',\n",
       " 'notebooks',\n",
       " 'README.md',\n",
       " 'requirements.txt',\n",
       " 'summary_report.pdf',\n",
       " 'venv',\n",
       " 'visuals']"
      ]
     },
     "execution_count": 42,
     "metadata": {},
     "output_type": "execute_result"
    }
   ],
   "source": [
    "os.listdir()"
   ]
  },
  {
   "cell_type": "code",
   "execution_count": 58,
   "id": "67c92387",
   "metadata": {},
   "outputs": [
    {
     "name": "stdout",
     "output_type": "stream",
     "text": [
      "(541909, 8)\n",
      "Index(['InvoiceNo', 'StockCode', 'Description', 'Quantity', 'InvoiceDate',\n",
      "       'UnitPrice', 'CustomerID', 'Country'],\n",
      "      dtype='object')\n",
      "<class 'pandas.core.frame.DataFrame'>\n",
      "RangeIndex: 541909 entries, 0 to 541908\n",
      "Data columns (total 8 columns):\n",
      " #   Column       Non-Null Count   Dtype  \n",
      "---  ------       --------------   -----  \n",
      " 0   InvoiceNo    541909 non-null  object \n",
      " 1   StockCode    541909 non-null  object \n",
      " 2   Description  540455 non-null  object \n",
      " 3   Quantity     541909 non-null  int64  \n",
      " 4   InvoiceDate  541909 non-null  object \n",
      " 5   UnitPrice    541909 non-null  float64\n",
      " 6   CustomerID   406829 non-null  float64\n",
      " 7   Country      541909 non-null  object \n",
      "dtypes: float64(2), int64(1), object(5)\n",
      "memory usage: 33.1+ MB\n"
     ]
    }
   ],
   "source": [
    "data = pd.read_csv('data/data.csv', encoding='latin1')  # ตอนนี้ไฟล์อยู่ตรงนี้\n",
    "print(data.shape)        # ดูขนาดข้อมูล (rows, columns)\n",
    "print(data.columns)      # ดูชื่อคอลัมน์\n",
    "data.head()              # ดูตัวอย่างข้อมูล 5 แถวแรก\n",
    "data.info()              # ดู type และ null ของแต่ละคอลัมน์\n"
   ]
  },
  {
   "cell_type": "code",
   "execution_count": 59,
   "id": "9b7c83fa",
   "metadata": {},
   "outputs": [
    {
     "name": "stdout",
     "output_type": "stream",
     "text": [
      "InvoiceNo           0\n",
      "StockCode           0\n",
      "Description      1454\n",
      "Quantity            0\n",
      "InvoiceDate         0\n",
      "UnitPrice           0\n",
      "CustomerID     135080\n",
      "Country             0\n",
      "dtype: int64\n"
     ]
    }
   ],
   "source": [
    "# ดูจำนวน missing values\n",
    "print(data.isnull().sum())\n",
    "\n",
    "# ลบแถวที่ CustomerID ว่าง (ทำ customer analysis)\n",
    "df = data.dropna(subset=['CustomerID'])\n",
    "\n",
    "# แปลง CustomerID เป็น string \n",
    "df['CustomerID'] = df['CustomerID'].astype(str)\n",
    "data['CustomerID'] = df['CustomerID'].astype(str)\n"
   ]
  },
  {
   "cell_type": "code",
   "execution_count": 60,
   "id": "d1143be6",
   "metadata": {},
   "outputs": [],
   "source": [
    "df['Description'] = df['Description'].fillna('Unknown')\n",
    "data['Description'] = data['Description'].fillna('Unknown')"
   ]
  },
  {
   "cell_type": "code",
   "execution_count": 61,
   "id": "9a1f8d01",
   "metadata": {},
   "outputs": [],
   "source": [
    "data['InvoiceDate'] = pd.to_datetime(data['InvoiceDate'])\n",
    "df['InvoiceDate'] = pd.to_datetime(df['InvoiceDate'])\n"
   ]
  },
  {
   "cell_type": "code",
   "execution_count": 62,
   "id": "f0b1cf43",
   "metadata": {},
   "outputs": [],
   "source": [
    "# ลบแถวที่ Quantity หรือราคา UnitPrice น้อยกว่าหรือเท่ากับ 0\n",
    "df = df[(df['Quantity'] > 0) & (df['UnitPrice'] > 0)]\n",
    "data = data[(data['Quantity'] > 0) & (data['UnitPrice'] > 0)]\n",
    "\n",
    "# ผลรวมข้อมูล\n",
    "data['TotalPrice'] = data['Quantity'] * data['UnitPrice']\n",
    "df['TotalPrice'] = df['Quantity'] * df['UnitPrice']\n"
   ]
  },
  {
   "cell_type": "code",
   "execution_count": 63,
   "id": "7324c35a",
   "metadata": {},
   "outputs": [],
   "source": [
    "#ตรวจสอบข้อมูลซ้ำซ้อน\n",
    "df.duplicated().sum()  # จำนวนข้อมูลซ้ำ\n",
    "data.duplicated().sum()\n",
    "\n",
    "df = df.drop_duplicates()\n",
    "data = data.drop_duplicates()\n"
   ]
  },
  {
   "cell_type": "markdown",
   "id": "ddb229f4",
   "metadata": {},
   "source": [
    "# analysis"
   ]
  },
  {
   "cell_type": "code",
   "execution_count": 66,
   "id": "2779315c",
   "metadata": {},
   "outputs": [
    {
     "name": "stdout",
     "output_type": "stream",
     "text": [
      "(392692, 9)\n",
      "(524878, 9)\n"
     ]
    }
   ],
   "source": [
    "print(df.shape)#customer analysis\n",
    "print(data.shape)#transaction-level"
   ]
  },
  {
   "cell_type": "code",
   "execution_count": null,
   "id": "d9737557",
   "metadata": {},
   "outputs": [],
   "source": []
  }
 ],
 "metadata": {
  "kernelspec": {
   "display_name": "venv",
   "language": "python",
   "name": "python3"
  },
  "language_info": {
   "codemirror_mode": {
    "name": "ipython",
    "version": 3
   },
   "file_extension": ".py",
   "mimetype": "text/x-python",
   "name": "python",
   "nbconvert_exporter": "python",
   "pygments_lexer": "ipython3",
   "version": "3.12.10"
  }
 },
 "nbformat": 4,
 "nbformat_minor": 5
}
